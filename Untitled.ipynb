{
 "cells": [
  {
   "cell_type": "code",
   "execution_count": 1,
   "id": "6e38992d",
   "metadata": {},
   "outputs": [],
   "source": [
    "import markdown\n",
    "import pymdownx\n",
    "import argparse\n",
    "\n",
    "import markdown.extensions.toc\n",
    "import pymdownx.emoji, pymdownx.superfences\n",
    "\n",
    "\n",
    "ap = argparse.ArgumentParser()\n",
    "\n",
    "ap.add_argument(\"-d\", \"--dir\", default='rtl', type=str,\n",
    "help=\"docuemnt direction: rtl or ltr\")\n",
    "\n",
    "ap.add_argument(\"-f\", \"--file\", type=str, default=\"file.md\",\n",
    "help=\"path to markdown file you want to parse\")\n",
    "ap.add_argument(\"-o\", \"--output\", type=str, default=\"file.html\",\n",
    "help=\"path to output html file you want\")\n",
    "\n",
    "args = vars(ap.parse_args())\n",
    "\n",
    "emoji = {\n",
    "        \"emoji_index\": pymdownx.emoji.emojione,\n",
    "        \"emoji_generator\": pymdownx.emoji.to_png,\n",
    "        \"alt\": \"short\",\n",
    "        \"options\": {\n",
    "            \"attributes\": {\n",
    "                \"align\": \"absmiddle\",\n",
    "                \"height\": \"20px\",\n",
    "                \"width\": \"20px\"\n",
    "            }\n",
    "        }\n",
    "    }\n",
    "\n",
    "def fence_diagram_format(source, language, class_name, options, md, **kwargs):\n",
    "    title = kwargs['attrs'].get('title', 0)\n",
    "    if title:\n",
    "        return f\"\"\"\n",
    "            <div class=\"diagram highlight\">\n",
    "                <span class=\"filename\">{title}</span>\n",
    "                {pymdownx.superfences.fence_div_format(source, language, class_name, options, md, **kwargs)}\n",
    "            </div>\n",
    "        \"\"\"\n",
    "    return pymdownx.superfences.fence_div_format(source, language, class_name, options, md, **kwargs)\n",
    "\n",
    "\n",
    "superfences = {\n",
    "        \"custom_fences\": [\n",
    "            {\n",
    "                'name': 'diagram',\n",
    "                'class': 'mermaid',\n",
    "                'format': fence_diagram_format\n",
    "            }\n",
    "        ]\n",
    "}\n",
    "\n",
    "tasklist = {\"custom_checkbox\": True}\n",
    "\n",
    "md = markdown.Markdown(extensions=['markdown.extensions.attr_list', 'markdown.extensions.tables',\n",
    "                                   'toc', 'footnotes', 'md_in_html', 'admonition',\n",
    "                                   'pymdownx.superfences', 'pymdownx.b64', 'pymdownx.caret',\n",
    "                                   'pymdownx.critic', 'pymdownx.details', 'pymdownx.emoji',\n",
    "                                   'pymdownx.keys', 'pymdownx.progressbar', 'pymdownx.smartsymbols',\n",
    "                                   'pymdownx.tasklist', 'pymdownx.inlinehilite'],\n",
    "    extension_configs = {\n",
    "    \"pymdownx.superfences\": superfences,\n",
    "    \"pymdownx.emoji\": emoji,\n",
    "    \"pymdownx.tasklist\": tasklist,\n",
    "    \"pymdownx.highlight\": {\n",
    "        \"auto_title\": True,\n",
    "    }\n",
    "\n",
    "})\n"
   ]
  },
  {
   "cell_type": "code",
   "execution_count": 18,
   "id": "eb8fbc7b",
   "metadata": {},
   "outputs": [
    {
     "data": {
      "text/plain": [
       "'<div class=\"mermaid \" title=\"haha\">flowchart LR\\n    v2((v2.0.0)) --&gt; v21((v2.1.0)) --&gt; v211((v2.1.1))\\n\\tv21 --&gt; v3((v3.0.0))</div>'"
      ]
     },
     "execution_count": 18,
     "metadata": {},
     "output_type": "execute_result"
    }
   ],
   "source": [
    "pymdownx.superfences.fence_div_format(\"\"\"flowchart LR\n",
    "    v2((v2.0.0)) --> v21((v2.1.0)) --> v211((v2.1.1))\n",
    "\tv21 --> v3((v3.0.0))\"\"\",\n",
    "    'diagram', 'mermaid', {'title': 'haha'}, md, classes=[\"\"], id_value=\"\", attrs={'title': 'haha'})"
   ]
  },
  {
   "cell_type": "code",
   "execution_count": null,
   "id": "7a1b94e2",
   "metadata": {},
   "outputs": [],
   "source": [
    "def custom_format(source, language, class_name, options, md, **kwargs):\n",
    "    \"\"\"Custom format.\"\"\"\n",
    "\n",
    "    return '<div class_name=\"%s %s\", data-option=\"%s\">%s</div>' % (language, class_name, options['opt'], html_escape(source))\n"
   ]
  },
  {
   "cell_type": "code",
   "execution_count": null,
   "id": "5119463c",
   "metadata": {},
   "outputs": [],
   "source": [
    "\n",
    "\n",
    "md.convertFile(args['file'], args['output'])\n",
    "\n",
    "with open(args['output'], 'r') as f:\n",
    "    output = f.read()\n",
    "    \n",
    "html = f\"\"\"\n",
    "<!DOCTYPE html>\n",
    "<html dir=\"{args['dir']}\">\n",
    "<head>\n",
    "    <meta charset=\"UTF-8\">\n",
    "    <meta http-equiv=\"X-UA-Compatible\" content=\"IE=edge\">\n",
    "    <meta name=\"viewport\" content=\"width=device-width, initial-scale=1.0\">\n",
    "    <title>Document</title>\n",
    "    <link rel=\"stylesheet\" href=\"/home/compulack/myPC/myDev/myScripts/pymd/assest/style.css\">\n",
    "    <link rel=\"stylesheet\" href=\"/home/compulack/myPC/myDev/myScripts/pymd/assest/progressbar.css\">\n",
    "    <script src=\"https://unpkg.com/mermaid@8.6.4/dist/mermaid.min.js\" defer></script>\n",
    "    <script src=\"https://polyfill.io/v3/polyfill.min.js?features=es6\" defer></script>\n",
    "    <script src=\"https://cdn.jsdelivr.net/npm/mathjax@3/es5/tex-chtml.js\" defer></script>\n",
    "    \n",
    "</head>\n",
    "<body class=\"md-typeset\">\n",
    "    {output}\n",
    "</body>\n",
    "</html>\n",
    "\"\"\"\n",
    "\n",
    "with open(args['output'], 'w') as f:\n",
    "    f.write(html)"
   ]
  }
 ],
 "metadata": {
  "kernelspec": {
   "display_name": "Python 3 (ipykernel)",
   "language": "python",
   "name": "python3"
  },
  "language_info": {
   "codemirror_mode": {
    "name": "ipython",
    "version": 3
   },
   "file_extension": ".py",
   "mimetype": "text/x-python",
   "name": "python",
   "nbconvert_exporter": "python",
   "pygments_lexer": "ipython3",
   "version": "3.9.7"
  }
 },
 "nbformat": 4,
 "nbformat_minor": 5
}
